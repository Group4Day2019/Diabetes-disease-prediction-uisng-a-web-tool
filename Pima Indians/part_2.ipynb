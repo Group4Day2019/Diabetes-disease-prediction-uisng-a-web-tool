{
 "cells": [
  {
   "cell_type": "markdown",
   "id": "actual-guatemala",
   "metadata": {},
   "source": [
    "# Data Pre-Processing."
   ]
  },
  {
   "cell_type": "code",
   "execution_count": 54,
   "id": "speaking-vertex",
   "metadata": {},
   "outputs": [],
   "source": [
    "# Importing libraries to be used.\n",
    "import warnings\n",
    "warnings.filterwarnings('ignore')\n",
    "import numpy as np\n",
    "import pandas as pd\n",
    "import matplotlib.pyplot as plt\n",
    "%matplotlib inline\n",
    "import seaborn as sns\n",
    "from sklearn.model_selection import train_test_split\n",
    "from sklearn.preprocessing import MinMaxScaler\n",
    "from sklearn.ensemble import RandomForestClassifier\n",
    "from sklearn.model_selection import cross_val_score\n",
    "from sklearn.metrics import accuracy_score,confusion_matrix\n",
    "from sklearn.metrics import classification_report\n",
    "from sklearn.tree import DecisionTreeClassifier\n",
    "from sklearn.naive_bayes import GaussianNB\n",
    "from sklearn.neighbors import KNeighborsClassifier\n",
    "from sklearn.svm import SVC\n",
    "from sklearn.linear_model import LogisticRegression\n",
    "from sklearn.metrics import r2_score\n",
    "from sklearn.metrics import mean_squared_error\n",
    "from numpy import set_printoptions\n",
    "from sklearn.preprocessing import StandardScaler\n",
    "from sklearn.preprocessing import Normalizer\n",
    "from sklearn.preprocessing import Binarizer"
   ]
  },
  {
   "cell_type": "code",
   "execution_count": 3,
   "id": "assigned-affairs",
   "metadata": {},
   "outputs": [],
   "source": [
    "# loading the dataset.\n",
    "df = pd.read_csv('diabetes.csv')"
   ]
  },
  {
   "cell_type": "code",
   "execution_count": 8,
   "id": "individual-campbell",
   "metadata": {},
   "outputs": [
    {
     "name": "stdout",
     "output_type": "stream",
     "text": [
      "[[0.353 0.744 0.59  0.354 0.    0.501 0.234 0.483]\n",
      " [0.059 0.427 0.541 0.293 0.    0.396 0.117 0.167]\n",
      " [0.471 0.92  0.525 0.    0.    0.347 0.254 0.183]\n",
      " [0.059 0.447 0.541 0.232 0.111 0.419 0.038 0.   ]\n",
      " [0.    0.688 0.328 0.354 0.199 0.642 0.944 0.2  ]]\n"
     ]
    }
   ],
   "source": [
    "# Rescaling data ( between 0 and 1).\n",
    "array = df.values\n",
    "# separating array into input and output components.\n",
    "X = array[:,0:8]\n",
    "Y = array[:,8]\n",
    "scaler = MinMaxScaler(feature_range=(0, 1))\n",
    "rescaledX = scaler.fit_transform(X)\n",
    "# summarizing the transformed data.\n",
    "set_printoptions(precision=3)\n",
    "print(rescaledX[0:5,:])"
   ]
  },
  {
   "cell_type": "code",
   "execution_count": 10,
   "id": "medium-absolute",
   "metadata": {},
   "outputs": [
    {
     "name": "stdout",
     "output_type": "stream",
     "text": [
      "[[ 0.64   0.848  0.15   0.907 -0.693  0.204  0.468  1.426]\n",
      " [-0.845 -1.123 -0.161  0.531 -0.693 -0.684 -0.365 -0.191]\n",
      " [ 1.234  1.944 -0.264 -1.288 -0.693 -1.103  0.604 -0.106]\n",
      " [-0.845 -0.998 -0.161  0.155  0.123 -0.494 -0.921 -1.042]\n",
      " [-1.142  0.504 -1.505  0.907  0.766  1.41   5.485 -0.02 ]]\n"
     ]
    }
   ],
   "source": [
    "# Standardize data (0 mean, 1 stdev).\n",
    "# separating array into input and output components\n",
    "X = array[:,0:8]\n",
    "Y = array[:,8]\n",
    "scaler = StandardScaler().fit(X)\n",
    "rescaledX = scaler.transform(X)\n",
    "# summarizing transformed data\n",
    "set_printoptions(precision=3)\n",
    "print(rescaledX[0:5,:])"
   ]
  },
  {
   "cell_type": "code",
   "execution_count": 13,
   "id": "banned-vacation",
   "metadata": {},
   "outputs": [
    {
     "name": "stdout",
     "output_type": "stream",
     "text": [
      "[[0.034 0.828 0.403 0.196 0.    0.188 0.004 0.28 ]\n",
      " [0.008 0.716 0.556 0.244 0.    0.224 0.003 0.261]\n",
      " [0.04  0.924 0.323 0.    0.    0.118 0.003 0.162]\n",
      " [0.007 0.588 0.436 0.152 0.622 0.186 0.001 0.139]\n",
      " [0.    0.596 0.174 0.152 0.731 0.188 0.01  0.144]]\n"
     ]
    }
   ],
   "source": [
    "# Normalize data (length of 1).\n",
    "# separating array into input and output components\n",
    "X = array[:,0:8]\n",
    "Y = array[:,8]\n",
    "scaler = Normalizer().fit(X)\n",
    "normalizedX = scaler.transform(X)\n",
    "# summarizing transformed data\n",
    "set_printoptions(precision=3)\n",
    "print(normalizedX[0:5,:])"
   ]
  },
  {
   "cell_type": "code",
   "execution_count": 16,
   "id": "modular-trial",
   "metadata": {},
   "outputs": [
    {
     "name": "stdout",
     "output_type": "stream",
     "text": [
      "[[1. 1. 1. 1. 0. 1. 1. 1.]\n",
      " [1. 1. 1. 1. 0. 1. 1. 1.]\n",
      " [1. 1. 1. 0. 0. 1. 1. 1.]\n",
      " [1. 1. 1. 1. 1. 1. 1. 1.]\n",
      " [0. 1. 1. 1. 1. 1. 1. 1.]]\n"
     ]
    }
   ],
   "source": [
    "# binarization of data.\n",
    "X = array[:,0:8]\n",
    "Y = array[:,8]\n",
    "binarizer = Binarizer(threshold=0.0).fit(X)\n",
    "binaryX = binarizer.transform(X)\n",
    "\n",
    "set_printoptions(precision=3)\n",
    "print(binaryX[0:5,:])"
   ]
  },
  {
   "cell_type": "code",
   "execution_count": 23,
   "id": "aggressive-broadway",
   "metadata": {},
   "outputs": [],
   "source": [
    "#train_test_splitting of the dataset\n",
    "\n",
    "X = df.drop(columns = 'Outcome')\n",
    "\n",
    "# Getting Predicting Value\n",
    "y = df['Outcome']\n",
    "\n",
    "from sklearn.model_selection import train_test_split \n",
    "X_train,X_test,y_train,y_test = train_test_split(X,y,test_size=0.2,random_state=0)"
   ]
  },
  {
   "cell_type": "markdown",
   "id": "afraid-prototype",
   "metadata": {},
   "source": [
    "## Model building."
   ]
  },
  {
   "cell_type": "markdown",
   "id": "israeli-halloween",
   "metadata": {},
   "source": [
    "## Random forest classifier."
   ]
  },
  {
   "cell_type": "code",
   "execution_count": 24,
   "id": "stopped-gothic",
   "metadata": {},
   "outputs": [
    {
     "data": {
      "text/plain": [
       "RandomForestClassifier()"
      ]
     },
     "execution_count": 24,
     "metadata": {},
     "output_type": "execute_result"
    }
   ],
   "source": [
    "rfc=RandomForestClassifier()\n",
    "rfc.fit(X_train,y_train)"
   ]
  },
  {
   "cell_type": "code",
   "execution_count": 25,
   "id": "about-conflict",
   "metadata": {},
   "outputs": [
    {
     "name": "stdout",
     "output_type": "stream",
     "text": [
      "accuracy is 73.78 %\n",
      "std is 4.44 %\n"
     ]
    }
   ],
   "source": [
    "# Cross validation and mean performance test for training data\n",
    "from sklearn.model_selection import cross_val_score\n",
    "accuracies = cross_val_score(estimator=rfc, X=X_train ,y=y_train,cv=10)\n",
    "print(\"accuracy is {:.2f} %\".format(accuracies.mean()*100))\n",
    "print(\"std is {:.2f} %\".format(accuracies.std()*100))"
   ]
  },
  {
   "cell_type": "code",
   "execution_count": 26,
   "id": "suitable-newark",
   "metadata": {},
   "outputs": [],
   "source": [
    "# Prediction.\n",
    "pre1 = rfc.predict(X_test)"
   ]
  },
  {
   "cell_type": "code",
   "execution_count": 27,
   "id": "facial-botswana",
   "metadata": {},
   "outputs": [
    {
     "name": "stdout",
     "output_type": "stream",
     "text": [
      "0.8181818181818182\n",
      "[[94 15]\n",
      " [13 32]]\n",
      "Training Score:\n",
      " 100.0\n",
      "Mean Squared Error:\n",
      " 0.18181818181818182\n",
      "R2 score is:\n",
      " 0.14257307615828196\n"
     ]
    }
   ],
   "source": [
    "# Accuracy, confusion matrix, training score, mean squared error, r2 score.\n",
    "Random_forest=accuracy_score(pre1,y_test)\n",
    "print(accuracy_score(pre1,y_test))\n",
    "print(confusion_matrix(pre1,y_test))\n",
    "print(\"Training Score:\\n\",rfc.score(X_train,y_train)*100)\n",
    "print(\"Mean Squared Error:\\n\",mean_squared_error(y_test, pre1))\n",
    "print(\"R2 score is:\\n\",r2_score(y_test, pre1))"
   ]
  },
  {
   "cell_type": "code",
   "execution_count": 28,
   "id": "pregnant-nicholas",
   "metadata": {},
   "outputs": [
    {
     "name": "stdout",
     "output_type": "stream",
     "text": [
      "              precision    recall  f1-score   support\n",
      "\n",
      "           0       0.88      0.86      0.87       109\n",
      "           1       0.68      0.71      0.70        45\n",
      "\n",
      "    accuracy                           0.82       154\n",
      "   macro avg       0.78      0.79      0.78       154\n",
      "weighted avg       0.82      0.82      0.82       154\n",
      "\n"
     ]
    }
   ],
   "source": [
    "# Classification report.\n",
    "print(classification_report(pre1,y_test))"
   ]
  },
  {
   "cell_type": "markdown",
   "id": "entire-polymer",
   "metadata": {},
   "source": [
    "## Decision Tress Classifier."
   ]
  },
  {
   "cell_type": "code",
   "execution_count": 29,
   "id": "published-flush",
   "metadata": {},
   "outputs": [
    {
     "data": {
      "text/plain": [
       "DecisionTreeClassifier()"
      ]
     },
     "execution_count": 29,
     "metadata": {},
     "output_type": "execute_result"
    }
   ],
   "source": [
    "dc=DecisionTreeClassifier(criterion='gini')\n",
    "dc.fit(X_train,y_train)"
   ]
  },
  {
   "cell_type": "code",
   "execution_count": 30,
   "id": "primary-thread",
   "metadata": {},
   "outputs": [
    {
     "name": "stdout",
     "output_type": "stream",
     "text": [
      "accuracy is 69.73 %\n",
      "std is 4.82 %\n"
     ]
    }
   ],
   "source": [
    "# Cross validation test for training data.\n",
    "from sklearn.model_selection import cross_val_score\n",
    "accuracies = cross_val_score(estimator=dc, X=X_train ,y=y_train,cv=10)\n",
    "print(\"accuracy is {:.2f} %\".format(accuracies.mean()*100))\n",
    "print(\"std is {:.2f} %\".format(accuracies.std()*100))"
   ]
  },
  {
   "cell_type": "code",
   "execution_count": 31,
   "id": "textile-provider",
   "metadata": {},
   "outputs": [],
   "source": [
    "# Prediction.\n",
    "pre2=dc.predict(X_test)"
   ]
  },
  {
   "cell_type": "code",
   "execution_count": 32,
   "id": "alert-squad",
   "metadata": {},
   "outputs": [
    {
     "name": "stdout",
     "output_type": "stream",
     "text": [
      "0.7922077922077922\n",
      "[[87 12]\n",
      " [20 35]]\n",
      "Training Score:\n",
      " 100.0\n",
      "Mean Squared Error:\n",
      " 0.2077922077922078\n",
      "R2 score is:\n",
      " 0.020083515609465197\n"
     ]
    }
   ],
   "source": [
    "#  Accuracy, confusion matrix, training score, mean squared error, r2 score.\n",
    "Decisiontress_classifier=accuracy_score(pre2,y_test)\n",
    "print(accuracy_score(pre2,y_test))\n",
    "print(confusion_matrix(pre2,y_test))\n",
    "print(\"Training Score:\\n\",dc.score(X_train,y_train)*100)\n",
    "print(\"Mean Squared Error:\\n\",mean_squared_error(y_test, pre2))\n",
    "print(\"R2 score is:\\n\",r2_score(y_test, pre2))"
   ]
  },
  {
   "cell_type": "code",
   "execution_count": 33,
   "id": "enormous-butler",
   "metadata": {},
   "outputs": [
    {
     "name": "stdout",
     "output_type": "stream",
     "text": [
      "              precision    recall  f1-score   support\n",
      "\n",
      "           0       0.81      0.88      0.84        99\n",
      "           1       0.74      0.64      0.69        55\n",
      "\n",
      "    accuracy                           0.79       154\n",
      "   macro avg       0.78      0.76      0.77       154\n",
      "weighted avg       0.79      0.79      0.79       154\n",
      "\n"
     ]
    }
   ],
   "source": [
    "# Classification report.\n",
    "print(classification_report(pre2,y_test))"
   ]
  },
  {
   "cell_type": "markdown",
   "id": "antique-demographic",
   "metadata": {},
   "source": [
    "## Naive bayes-Gaussian NB."
   ]
  },
  {
   "cell_type": "code",
   "execution_count": 34,
   "id": "formed-eating",
   "metadata": {},
   "outputs": [
    {
     "data": {
      "text/plain": [
       "GaussianNB()"
      ]
     },
     "execution_count": 34,
     "metadata": {},
     "output_type": "execute_result"
    }
   ],
   "source": [
    "gb=GaussianNB()\n",
    "gb.fit(X_train,y_train)"
   ]
  },
  {
   "cell_type": "code",
   "execution_count": 35,
   "id": "waiting-antibody",
   "metadata": {},
   "outputs": [
    {
     "name": "stdout",
     "output_type": "stream",
     "text": [
      "accuracy is 74.27 %\n",
      "std is 5.51 %\n"
     ]
    }
   ],
   "source": [
    "# Cross validation test for training data\n",
    "from sklearn.model_selection import cross_val_score\n",
    "accuracies = cross_val_score(estimator=gb, X=X_train ,y=y_train,cv=10)\n",
    "print(\"accuracy is {:.2f} %\".format(accuracies.mean()*100))\n",
    "print(\"std is {:.2f} %\".format(accuracies.std()*100))"
   ]
  },
  {
   "cell_type": "code",
   "execution_count": 36,
   "id": "dense-clark",
   "metadata": {},
   "outputs": [],
   "source": [
    "# Prediction.\n",
    "pre3=gb.predict(X_test)"
   ]
  },
  {
   "cell_type": "code",
   "execution_count": 37,
   "id": "superb-sampling",
   "metadata": {},
   "outputs": [
    {
     "name": "stdout",
     "output_type": "stream",
     "text": [
      "0.7922077922077922\n",
      "[[93 18]\n",
      " [14 29]]\n",
      "Training Score:\n",
      " 75.7328990228013\n",
      "Mean Squared Error:\n",
      " 0.2077922077922078\n",
      "R2 score is:\n",
      " 0.020083515609465197\n"
     ]
    }
   ],
   "source": [
    "#  Accuracy, confusion matrix, training score, mean squared error, r2 score.\n",
    "Naive_bayes_Gaussian_nb=accuracy_score(pre3,y_test)\n",
    "print(accuracy_score(pre3,y_test))\n",
    "print(confusion_matrix(pre3,y_test))\n",
    "print(\"Training Score:\\n\",gb.score(X_train,y_train)*100)\n",
    "print(\"Mean Squared Error:\\n\",mean_squared_error(y_test, pre3))\n",
    "print(\"R2 score is:\\n\",r2_score(y_test, pre3))"
   ]
  },
  {
   "cell_type": "code",
   "execution_count": 38,
   "id": "compact-tunisia",
   "metadata": {},
   "outputs": [
    {
     "name": "stdout",
     "output_type": "stream",
     "text": [
      "              precision    recall  f1-score   support\n",
      "\n",
      "           0       0.87      0.84      0.85       111\n",
      "           1       0.62      0.67      0.64        43\n",
      "\n",
      "    accuracy                           0.79       154\n",
      "   macro avg       0.74      0.76      0.75       154\n",
      "weighted avg       0.80      0.79      0.79       154\n",
      "\n"
     ]
    }
   ],
   "source": [
    "# Classification report.\n",
    "print(classification_report(pre3,y_test))"
   ]
  },
  {
   "cell_type": "markdown",
   "id": "quantitative-drawing",
   "metadata": {},
   "source": [
    "## KNN."
   ]
  },
  {
   "cell_type": "code",
   "execution_count": 39,
   "id": "floppy-immigration",
   "metadata": {},
   "outputs": [
    {
     "data": {
      "text/plain": [
       "KNeighborsClassifier(n_neighbors=7)"
      ]
     },
     "execution_count": 39,
     "metadata": {},
     "output_type": "execute_result"
    }
   ],
   "source": [
    "from sklearn.neighbors import KNeighborsClassifier\n",
    "knn=KNeighborsClassifier(n_neighbors=7)\n",
    "\n",
    "knn.fit(X_train,y_train)"
   ]
  },
  {
   "cell_type": "code",
   "execution_count": 40,
   "id": "rolled-zoning",
   "metadata": {},
   "outputs": [
    {
     "name": "stdout",
     "output_type": "stream",
     "text": [
      "accuracy is 71.64 %\n",
      "std is 4.19 %\n"
     ]
    }
   ],
   "source": [
    "# Cross validation test for training data\n",
    "from sklearn.model_selection import cross_val_score\n",
    "accuracies = cross_val_score(estimator=knn, X=X_train ,y=y_train,cv=10)\n",
    "print(\"accuracy is {:.2f} %\".format(accuracies.mean()*100))\n",
    "print(\"std is {:.2f} %\".format(accuracies.std()*100))"
   ]
  },
  {
   "cell_type": "code",
   "execution_count": 41,
   "id": "defensive-abraham",
   "metadata": {},
   "outputs": [],
   "source": [
    "pre7 =knn.predict(X_test)"
   ]
  },
  {
   "cell_type": "code",
   "execution_count": 42,
   "id": "extra-accordance",
   "metadata": {},
   "outputs": [
    {
     "name": "stdout",
     "output_type": "stream",
     "text": [
      "0.7597402597402597\n",
      "Confusion Matrix:\n",
      " [[90 17]\n",
      " [20 27]]\n",
      "Training Score:\n",
      " 78.17589576547232\n",
      "Mean Squared Error:\n",
      " 0.24025974025974026\n",
      "R2 score is:\n",
      " -0.13302843507655582\n"
     ]
    }
   ],
   "source": [
    "k=accuracy_score(pre7,y_test)\n",
    "print(accuracy_score(pre7,y_test))\n",
    "print(\"Confusion Matrix:\\n\",confusion_matrix(y_test, pre7))\n",
    "print(\"Training Score:\\n\",knn.score(X_train,y_train)*100)\n",
    "print(\"Mean Squared Error:\\n\",mean_squared_error(y_test, pre7))\n",
    "print(\"R2 score is:\\n\",r2_score(y_test, pre7))"
   ]
  },
  {
   "cell_type": "code",
   "execution_count": 43,
   "id": "specialized-destruction",
   "metadata": {},
   "outputs": [
    {
     "name": "stdout",
     "output_type": "stream",
     "text": [
      "Classification Report is:\n",
      "               precision    recall  f1-score   support\n",
      "\n",
      "           0       0.84      0.82      0.83       110\n",
      "           1       0.57      0.61      0.59        44\n",
      "\n",
      "    accuracy                           0.76       154\n",
      "   macro avg       0.71      0.72      0.71       154\n",
      "weighted avg       0.76      0.76      0.76       154\n",
      "\n"
     ]
    }
   ],
   "source": [
    "print(\"Classification Report is:\\n\",classification_report(pre7,y_test))"
   ]
  },
  {
   "cell_type": "markdown",
   "id": "hearing-employment",
   "metadata": {},
   "source": [
    "## SVM."
   ]
  },
  {
   "cell_type": "code",
   "execution_count": 44,
   "id": "english-billion",
   "metadata": {},
   "outputs": [
    {
     "data": {
      "text/plain": [
       "SVC(kernel='linear', random_state=0)"
      ]
     },
     "execution_count": 44,
     "metadata": {},
     "output_type": "execute_result"
    }
   ],
   "source": [
    "sv=SVC(kernel='linear',random_state=0)\n",
    "sv.fit(X_train,y_train)"
   ]
  },
  {
   "cell_type": "code",
   "execution_count": 45,
   "id": "random-vaccine",
   "metadata": {},
   "outputs": [
    {
     "name": "stdout",
     "output_type": "stream",
     "text": [
      "accuracy is 75.40 %\n",
      "std is 4.68 %\n"
     ]
    }
   ],
   "source": [
    "# Cross validation test for training data\n",
    "accuracies = cross_val_score(estimator=sv, X=X_train ,y=y_train,cv=10)\n",
    "print(\"accuracy is {:.2f} %\".format(accuracies.mean()*100))\n",
    "print(\"std is {:.2f} %\".format(accuracies.std()*100))"
   ]
  },
  {
   "cell_type": "code",
   "execution_count": 46,
   "id": "cordless-dollar",
   "metadata": {},
   "outputs": [],
   "source": [
    "# Prediction.\n",
    "pre5=sv.predict(X_test)"
   ]
  },
  {
   "cell_type": "code",
   "execution_count": 47,
   "id": "legitimate-classroom",
   "metadata": {},
   "outputs": [
    {
     "name": "stdout",
     "output_type": "stream",
     "text": [
      "0.8181818181818182\n",
      "[[97 18]\n",
      " [10 29]]\n",
      "Training Score:\n",
      " 76.54723127035831\n",
      "Mean Squared Error:\n",
      " 0.18181818181818182\n",
      "R2 score is:\n",
      " 0.14257307615828196\n"
     ]
    }
   ],
   "source": [
    "# Accuracy and confusion matrix.\n",
    "svm_linear=accuracy_score(pre5,y_test)\n",
    "print(accuracy_score(pre5,y_test))\n",
    "print(confusion_matrix(pre5,y_test))\n",
    "print(\"Training Score:\\n\",sv.score(X_train,y_train)*100)\n",
    "print(\"Mean Squared Error:\\n\",mean_squared_error(y_test, pre5))\n",
    "print(\"R2 score is:\\n\",r2_score(y_test, pre5))"
   ]
  },
  {
   "cell_type": "code",
   "execution_count": 48,
   "id": "opening-heating",
   "metadata": {},
   "outputs": [
    {
     "name": "stdout",
     "output_type": "stream",
     "text": [
      "              precision    recall  f1-score   support\n",
      "\n",
      "           0       0.91      0.84      0.87       115\n",
      "           1       0.62      0.74      0.67        39\n",
      "\n",
      "    accuracy                           0.82       154\n",
      "   macro avg       0.76      0.79      0.77       154\n",
      "weighted avg       0.83      0.82      0.82       154\n",
      "\n"
     ]
    }
   ],
   "source": [
    "# Classification report.\n",
    "print(classification_report(pre5,y_test))"
   ]
  },
  {
   "cell_type": "markdown",
   "id": "casual-thursday",
   "metadata": {},
   "source": [
    "## Accuracies of all classification model overview."
   ]
  },
  {
   "cell_type": "code",
   "execution_count": 70,
   "id": "assumed-singles",
   "metadata": {},
   "outputs": [
    {
     "name": "stdout",
     "output_type": "stream",
     "text": [
      "svmlinear: 0.8181818181818182\n",
      "knn: 0.7597402597402597\n",
      "naive bayes: 0.7922077922077922\n",
      "Decision tress: 0.7922077922077922\n",
      "Random forest: 0.8181818181818182\n"
     ]
    }
   ],
   "source": [
    "print('svmlinear:',svm_linear)\n",
    "print('knn:',k)\n",
    "print('naive bayes:',Naive_bayes_Gaussian_nb)\n",
    "print('Decision tress:',Decisiontress_classifier)\n",
    "print('Random forest:',Random_forest)"
   ]
  },
  {
   "cell_type": "code",
   "execution_count": 71,
   "id": "independent-cambodia",
   "metadata": {},
   "outputs": [
    {
     "data": {
      "image/png": "[encoded data removed]",
      "text/plain": [
       "<Figure size 432x288 with 1 Axes>"
      ]
     },
     "metadata": {
      "needs_background": "light"
     },
     "output_type": "display_data"
    }
   ],
   "source": [
    "from sklearn import metrics\n",
    "import matplotlib.pyplot as plt\n",
    "\n",
    "plt.figure()\n",
    "\n",
    "# models to the list to be viewed on the ROC plot\n",
    "models = [\n",
    "    \n",
    "\n",
    "    {\n",
    "    'label': 'Random Forest',\n",
    "    'model': RandomForestClassifier(),\n",
    "    },\n",
    "    \n",
    "    {\n",
    "    'label': 'KNN',\n",
    "    'model': KNeighborsClassifier(n_neighbors=7),\n",
    "    },\n",
    "    \n",
    "    {\n",
    "    'label': 'Naive bayes-Gaussian NB.',\n",
    "    'model':  GaussianNB(),\n",
    "    },\n",
    "    \n",
    "    {\n",
    "    'label': 'Decision Tree Classifier.',\n",
    "    'model':  DecisionTreeClassifier(),\n",
    "    },\n",
    "    \n",
    "]\n",
    "\n",
    "# Below for loop iterates through your models list\n",
    "for m in models:\n",
    "    model = m['model']\n",
    "    model.fit(X_train, y_train)\n",
    "    y_pred=model.predict(X_test)\n",
    "    \n",
    "# Compute False postive rate, and True positive rate\n",
    "    fpr, tpr, thresholds = metrics.roc_curve(y_test, model.predict_proba(X_test)[:,1])\n",
    "    \n",
    "# Calculate Area under the curve to display on the plot\n",
    "    auc = metrics.roc_auc_score(y_test,model.predict(X_test))\n",
    "    \n",
    "# Now, plot the computed values\n",
    "    plt.plot(fpr, tpr, label='%s ROC (area = %0.2f)' % (m['label'], auc))\n",
    "    \n",
    "# Custom settings for the plot \n",
    "plt.plot([0, 1], [0, 1], 'r--')\n",
    "plt.xlim([0.0, 1.0])\n",
    "plt.ylim([0.0, 1.05])\n",
    "plt.xlabel('1-Specificity(False Positive Rate)')\n",
    "plt.ylabel('Sensitivity(True Positive Rate)')\n",
    "plt.title('Receiver Operating Characteristic')\n",
    "plt.legend(loc=\"lower right\")\n",
    "plt.show()"
   ]
  },
  {
   "cell_type": "code",
   "execution_count": null,
   "id": "considered-romania",
   "metadata": {},
   "outputs": [],
   "source": []
  }
 ],
 "metadata": {
  "kernelspec": {
   "display_name": "Python 3",
   "language": "python",
   "name": "python3"
  },
  "language_info": {
   "codemirror_mode": {
    "name": "ipython",
    "version": 3
   },
   "file_extension": ".py",
   "mimetype": "text/x-python",
   "name": "python",
   "nbconvert_exporter": "python",
   "pygments_lexer": "ipython3",
   "version": "3.8.8"
  }
 },
 "nbformat": 4,
 "nbformat_minor": 5
}
