{
 "cells": [
  {
   "cell_type": "code",
   "execution_count": 103,
   "id": "lightweight-dublin",
   "metadata": {},
   "outputs": [],
   "source": [
    "# Importing libraries to be used.\n",
    "import warnings\n",
    "warnings.filterwarnings('ignore')\n",
    "import numpy as np\n",
    "import pandas as pd\n",
    "import matplotlib.pyplot as plt\n",
    "%matplotlib inline\n",
    "import seaborn as sns\n",
    "from sklearn.model_selection import train_test_split\n",
    "from sklearn.preprocessing import MinMaxScaler\n",
    "from sklearn.ensemble import RandomForestClassifier\n",
    "from sklearn.model_selection import cross_val_score\n",
    "from sklearn.metrics import accuracy_score,confusion_matrix\n",
    "from sklearn.metrics import classification_report\n",
    "from sklearn.tree import DecisionTreeClassifier\n",
    "from sklearn.naive_bayes import GaussianNB\n",
    "from sklearn.neighbors import KNeighborsClassifier\n",
    "from sklearn.svm import SVC\n",
    "from sklearn.linear_model import LogisticRegression\n",
    "from sklearn.metrics import r2_score\n",
    "from sklearn.metrics import mean_squared_error\n",
    "from numpy import set_printoptions\n",
    "from sklearn.preprocessing import StandardScaler\n",
    "from sklearn.preprocessing import Normalizer\n",
    "from sklearn.preprocessing import Binarizer\n",
    "from sklearn.model_selection import KFold\n",
    "import pickle\n",
    "from sklearn.pipeline import Pipeline\n",
    "from sklearn.preprocessing import StandardScaler\n",
    "from sklearn.model_selection import GridSearchCV\n",
    "from xgboost import XGBClassifier\n",
    "from sklearn.ensemble import AdaBoostClassifier\n",
    "from sklearn.ensemble import GradientBoostingClassifier\n",
    "from sklearn.ensemble import ExtraTreesClassifier\n",
    "from sklearn.model_selection import RepeatedStratifiedKFold\n",
    "from sklearn.model_selection import GridSearchCV"
   ]
  },
  {
   "cell_type": "code",
   "execution_count": 74,
   "id": "cloudy-amsterdam",
   "metadata": {},
   "outputs": [],
   "source": [
    "# loading the dataset.\n",
    "df = pd.read_csv('diabetes.csv')"
   ]
  },
  {
   "cell_type": "code",
   "execution_count": 57,
   "id": "through-cleveland",
   "metadata": {},
   "outputs": [
    {
     "name": "stdout",
     "output_type": "stream",
     "text": [
      "[[0.353 0.744 0.59  0.354 0.    0.501 0.234 0.483]\n",
      " [0.059 0.427 0.541 0.293 0.    0.396 0.117 0.167]\n",
      " [0.471 0.92  0.525 0.    0.    0.347 0.254 0.183]\n",
      " [0.059 0.447 0.541 0.232 0.111 0.419 0.038 0.   ]\n",
      " [0.    0.688 0.328 0.354 0.199 0.642 0.944 0.2  ]]\n"
     ]
    }
   ],
   "source": [
    "# Rescaling data ( between 0 and 1).\n",
    "array = df.values\n",
    "# separating array into input and output components.\n",
    "X = array[:,0:8]\n",
    "Y = array[:,8]\n",
    "scaler = MinMaxScaler(feature_range=(0, 1))\n",
    "rescaledX = scaler.fit_transform(X)\n",
    "# summarizing the transformed data.\n",
    "set_printoptions(precision=3)\n",
    "print(rescaledX[0:5,:])"
   ]
  },
  {
   "cell_type": "code",
   "execution_count": 58,
   "id": "outstanding-superior",
   "metadata": {},
   "outputs": [
    {
     "name": "stdout",
     "output_type": "stream",
     "text": [
      "[[ 0.64   0.848  0.15   0.907 -0.693  0.204  0.468  1.426]\n",
      " [-0.845 -1.123 -0.161  0.531 -0.693 -0.684 -0.365 -0.191]\n",
      " [ 1.234  1.944 -0.264 -1.288 -0.693 -1.103  0.604 -0.106]\n",
      " [-0.845 -0.998 -0.161  0.155  0.123 -0.494 -0.921 -1.042]\n",
      " [-1.142  0.504 -1.505  0.907  0.766  1.41   5.485 -0.02 ]]\n"
     ]
    }
   ],
   "source": [
    "# Standardize data (0 mean, 1 stdev).\n",
    "# separating array into input and output components\n",
    "X = array[:,0:8]\n",
    "Y = array[:,8]\n",
    "scaler = StandardScaler().fit(X)\n",
    "rescaledX = scaler.transform(X)\n",
    "# summarizing transformed data\n",
    "set_printoptions(precision=3)\n",
    "print(rescaledX[0:5,:])"
   ]
  },
  {
   "cell_type": "code",
   "execution_count": 59,
   "id": "hollow-phenomenon",
   "metadata": {},
   "outputs": [
    {
     "name": "stdout",
     "output_type": "stream",
     "text": [
      "[[0.034 0.828 0.403 0.196 0.    0.188 0.004 0.28 ]\n",
      " [0.008 0.716 0.556 0.244 0.    0.224 0.003 0.261]\n",
      " [0.04  0.924 0.323 0.    0.    0.118 0.003 0.162]\n",
      " [0.007 0.588 0.436 0.152 0.622 0.186 0.001 0.139]\n",
      " [0.    0.596 0.174 0.152 0.731 0.188 0.01  0.144]]\n"
     ]
    }
   ],
   "source": [
    "# Normalize data (length of 1).\n",
    "# separating array into input and output components\n",
    "X = array[:,0:8]\n",
    "Y = array[:,8]\n",
    "scaler = Normalizer().fit(X)\n",
    "normalizedX = scaler.transform(X)\n",
    "# summarizing transformed data\n",
    "set_printoptions(precision=3)\n",
    "print(normalizedX[0:5,:])"
   ]
  },
  {
   "cell_type": "code",
   "execution_count": 63,
   "id": "incorrect-arthur",
   "metadata": {},
   "outputs": [
    {
     "name": "stdout",
     "output_type": "stream",
     "text": [
      "[[1. 1. 1. 1. 0. 1. 1. 1.]\n",
      " [1. 1. 1. 1. 0. 1. 1. 1.]\n",
      " [1. 1. 1. 0. 0. 1. 1. 1.]\n",
      " [1. 1. 1. 1. 1. 1. 1. 1.]\n",
      " [0. 1. 1. 1. 1. 1. 1. 1.]]\n"
     ]
    }
   ],
   "source": [
    "# binarization of data.\n",
    "X = array[:,0:8]\n",
    "Y = array[:,8]\n",
    "binarizer = Binarizer(threshold=0.0).fit(X)\n",
    "binaryX = binarizer.transform(X)\n",
    "\n",
    "set_printoptions(precision=3)\n",
    "print(binaryX[0:5,:])"
   ]
  },
  {
   "cell_type": "code",
   "execution_count": 64,
   "id": "institutional-factory",
   "metadata": {},
   "outputs": [],
   "source": [
    "#train_test_splitting of the dataset\n",
    "\n",
    "\n",
    "\n",
    "from sklearn.model_selection import train_test_split \n",
    "X_train,X_test,y_train,y_test = train_test_split(X,y,test_size=0.2,random_state=7)"
   ]
  },
  {
   "cell_type": "code",
   "execution_count": 66,
   "id": "loose-instrumentation",
   "metadata": {},
   "outputs": [
    {
     "data": {
      "text/plain": [
       "array([[5.00e+00, 1.08e+02, 7.20e+01, ..., 3.61e+01, 2.63e-01, 3.30e+01],\n",
       "       [2.00e+00, 1.02e+02, 8.60e+01, ..., 4.55e+01, 1.27e-01, 2.30e+01],\n",
       "       [4.00e+00, 1.58e+02, 7.80e+01, ..., 3.29e+01, 8.03e-01, 3.10e+01],\n",
       "       ...,\n",
       "       [0.00e+00, 5.70e+01, 6.00e+01, ..., 2.17e+01, 7.35e-01, 6.70e+01],\n",
       "       [1.00e+00, 1.05e+02, 5.80e+01, ..., 2.43e+01, 1.87e-01, 2.10e+01],\n",
       "       [8.00e+00, 1.79e+02, 7.20e+01, ..., 3.27e+01, 7.19e-01, 3.60e+01]])"
      ]
     },
     "execution_count": 66,
     "metadata": {},
     "output_type": "execute_result"
    }
   ],
   "source": [
    "X_train"
   ]
  },
  {
   "cell_type": "code",
   "execution_count": 106,
   "id": "dimensional-science",
   "metadata": {},
   "outputs": [
    {
     "name": "stdout",
     "output_type": "stream",
     "text": [
      "LR: 0.767372 (0.044529)\n",
      "RF: 0.742808 (0.054825)\n",
      "KNN: 0.710206 (0.049772)\n",
      "DT: 0.661581 (0.056343)\n",
      "NB: 0.749418 (0.041042)\n",
      "SVM: 0.752723 (0.045559)\n"
     ]
    }
   ],
   "source": [
    "# Spot-Checking Algorithms to use\n",
    "models = []\n",
    "models.append(( 'LR' , LogisticRegression()))\n",
    "models.append(( 'RF' , RandomForestClassifier()))\n",
    "models.append(( 'KNN' , KNeighborsClassifier()))\n",
    "models.append(( 'DT' , DecisionTreeClassifier()))\n",
    "models.append(( 'NB' , GaussianNB()))\n",
    "models.append(( 'SVM' , SVC()))\n",
    "# evaluating each model in turn, using 10-fold cross validation to estimate accuracy.\n",
    "# This will split our dataset into 10 parts, train on 9 and test on 1 and repeat for all combinations of train-test splits.\n",
    "# Output are mean and standard deviation accuracies.\n",
    "results = []\n",
    "names = []\n",
    "for name, model in models:\n",
    "    seed = 7\n",
    "    kfold = KFold(n_splits=10, shuffle=True, random_state=seed)\n",
    "    cv_results = cross_val_score(model, X_train, y_train, cv=kfold, scoring= 'accuracy' )\n",
    "    results.append(cv_results)\n",
    "    names.append(name)\n",
    "    msg = \"%s: %f (%f)\" % (name, cv_results.mean(), cv_results.std())\n",
    "    print(msg)"
   ]
  },
  {
   "cell_type": "code",
   "execution_count": 107,
   "id": "sudden-phrase",
   "metadata": {},
   "outputs": [
    {
     "data": {
      "image/png": "[encoded data removed]",
      "text/plain": [
       "<Figure size 432x288 with 1 Axes>"
      ]
     },
     "metadata": {
      "needs_background": "light"
     },
     "output_type": "display_data"
    }
   ],
   "source": [
    "# Algorithm comparison on the spread and mean accuracy for each model.\n",
    "fig = plt.figure()\n",
    "fig.suptitle( ' Algorithm Comparison ' )\n",
    "ax = fig.add_subplot(111)\n",
    "plt.boxplot(results)\n",
    "ax.set_xticklabels(names)\n",
    "plt.show()"
   ]
  },
  {
   "cell_type": "code",
   "execution_count": 108,
   "id": "first-fundamental",
   "metadata": {},
   "outputs": [
    {
     "name": "stdout",
     "output_type": "stream",
     "text": [
      "0.7922077922077922\n",
      "[[88  9]\n",
      " [23 34]]\n",
      "              precision    recall  f1-score   support\n",
      "\n",
      "           0       0.79      0.91      0.85        97\n",
      "           1       0.79      0.60      0.68        57\n",
      "\n",
      "    accuracy                           0.79       154\n",
      "   macro avg       0.79      0.75      0.76       154\n",
      "weighted avg       0.79      0.79      0.78       154\n",
      "\n"
     ]
    }
   ],
   "source": [
    "# Make predictions on validation dataset\n",
    "LR = LogisticRegression()\n",
    "LR.fit(X_train, y_train)\n",
    "predictions = LR.predict(X_test)\n",
    "print(accuracy_score(y_test, predictions))\n",
    "print(confusion_matrix(y_test, predictions))\n",
    "print(classification_report(y_test, predictions))"
   ]
  },
  {
   "cell_type": "code",
   "execution_count": 109,
   "id": "vertical-lounge",
   "metadata": {},
   "outputs": [
    {
     "data": {
      "image/png": "[encoded data removed]",
      "text/plain": [
       "<Figure size 432x288 with 1 Axes>"
      ]
     },
     "metadata": {
      "needs_background": "light"
     },
     "output_type": "display_data"
    }
   ],
   "source": [
    "from sklearn import metrics\n",
    "import matplotlib.pyplot as plt\n",
    "\n",
    "plt.figure()\n",
    "\n",
    "# models to the list to be viewed on the ROC plot\n",
    "models = [\n",
    "    \n",
    "\n",
    "    {\n",
    "    'label': 'Random Forest',\n",
    "    'model': RandomForestClassifier(),\n",
    "    },\n",
    "    \n",
    "    {\n",
    "    'label': 'Logistic regression',\n",
    "    'model': LogisticRegression(),\n",
    "    },\n",
    "    \n",
    "    {\n",
    "    'label': 'KNN',\n",
    "    'model': KNeighborsClassifier(),\n",
    "    },\n",
    "    \n",
    "    {\n",
    "    'label': 'Naive bayes-Gaussian NB.',\n",
    "    'model':  GaussianNB(),\n",
    "    },\n",
    "    \n",
    "    {\n",
    "    'label': 'Decision Tree Classifier.',\n",
    "    'model':  DecisionTreeClassifier(),\n",
    "    },\n",
    "    \n",
    "]\n",
    "\n",
    "# Below for loop iterates through your models list\n",
    "for m in models:\n",
    "    model = m['model']\n",
    "    model.fit(X_train, y_train)\n",
    "    y_pred=model.predict(X_test)\n",
    "    \n",
    "# Compute False postive rate, and True positive rate\n",
    "    fpr, tpr, thresholds = metrics.roc_curve(y_test, model.predict_proba(X_test)[:,1])\n",
    "    \n",
    "# Calculate Area under the curve to display on the plot\n",
    "    auc = metrics.roc_auc_score(y_test,model.predict(X_test))\n",
    "    \n",
    "# Now, plot the computed values\n",
    "    plt.plot(fpr, tpr, label='%s ROC (area = %0.2f)' % (m['label'], auc))\n",
    "    \n",
    "# Custom settings for the plot \n",
    "plt.plot([0, 1], [0, 1], 'r--')\n",
    "plt.xlim([0.0, 1.0])\n",
    "plt.ylim([0.0, 1.05])\n",
    "plt.xlabel('1-Specificity(False Positive Rate)')\n",
    "plt.ylabel('Sensitivity(True Positive Rate)')\n",
    "plt.title('Receiver Operating Characteristic')\n",
    "plt.legend(loc=\"lower right\")\n",
    "plt.show()"
   ]
  },
  {
   "cell_type": "code",
   "execution_count": 110,
   "id": "alien-production",
   "metadata": {},
   "outputs": [],
   "source": [
    "#file = open('LR.pkl', 'wb')\n",
    "#pickle.dump(LR, file)\n",
    "#file.close()"
   ]
  },
  {
   "cell_type": "markdown",
   "id": "improving-possible",
   "metadata": {},
   "source": [
    "## Using pipelines."
   ]
  },
  {
   "cell_type": "code",
   "execution_count": 111,
   "id": "conservative-wound",
   "metadata": {},
   "outputs": [
    {
     "name": "stdout",
     "output_type": "stream",
     "text": [
      "ScaledLR: 0.778424 (0.061895)\n",
      "ScaledRF: 0.750793 (0.063684)\n",
      "ScaledKNN: 0.718297 (0.071563)\n",
      "ScaledDT: 0.692121 (0.055297)\n",
      "ScaledNB: 0.750820 (0.050575)\n",
      "ScaledSVM: 0.752565 (0.064295)\n"
     ]
    }
   ],
   "source": [
    "# using pipelines to standardise data to avoid leakage and build the model for each fold in the cross validation test ahrness.\n",
    "# this is ine of the methods to improve model performance.\n",
    "pipelines = []\n",
    "pipelines.append(( 'ScaledLR' , Pipeline([( 'Scaler' , StandardScaler()),( 'LR' ,\n",
    "LogisticRegression())])))\n",
    "pipelines.append(( 'ScaledRF' , Pipeline([( 'Scaler' , StandardScaler()),( 'Rf' ,\n",
    "RandomForestClassifier())])))\n",
    "pipelines.append(( 'ScaledKNN' , Pipeline([( 'Scaler' , StandardScaler()),( 'KNN' ,\n",
    "KNeighborsClassifier())])))\n",
    "pipelines.append(( 'ScaledDT' , Pipeline([( 'Scaler' , StandardScaler()),( 'DT' ,\n",
    "DecisionTreeClassifier())])))\n",
    "pipelines.append(( 'ScaledNB' , Pipeline([( 'Scaler' , StandardScaler()),( 'NB' ,\n",
    "GaussianNB())])))\n",
    "pipelines.append(( 'ScaledSVM' , Pipeline([( 'Scaler' , StandardScaler()),( 'SVM' , SVC())])))\n",
    "results = []\n",
    "names = []\n",
    "for name, model in pipelines:\n",
    "    kfold = KFold(n_splits=10, random_state=None)\n",
    "    cv_results = cross_val_score(model, X_train, y_train, cv=kfold, scoring='accuracy')\n",
    "    results.append(cv_results)\n",
    "    names.append(name)\n",
    "    msg = \"%s: %f (%f)\" % (name, cv_results.mean(), cv_results.std())\n",
    "    print(msg)"
   ]
  },
  {
   "cell_type": "code",
   "execution_count": 112,
   "id": "covered-triangle",
   "metadata": {},
   "outputs": [
    {
     "data": {
      "image/png": "[encoded data removed]",
      "text/plain": [
       "<Figure size 432x288 with 1 Axes>"
      ]
     },
     "metadata": {
      "needs_background": "light"
     },
     "output_type": "display_data"
    }
   ],
   "source": [
    "# plotting the distribution of the accuracy scores using box and whisker plots.\n",
    "# Comparing Algorithms\n",
    "fig = plt.figure()\n",
    "fig.suptitle( ' Scaled Algorithm Comparison ' )\n",
    "ax = fig.add_subplot(111)\n",
    "plt.boxplot(results)\n",
    "ax.set_xticklabels(names)\n",
    "plt.show()"
   ]
  },
  {
   "cell_type": "markdown",
   "id": "floating-label",
   "metadata": {},
   "source": [
    "## Selection of the best two models using the Box ad whisker plot above."
   ]
  },
  {
   "cell_type": "code",
   "execution_count": 113,
   "id": "seasonal-theta",
   "metadata": {},
   "outputs": [],
   "source": [
    "## tuning the parameters for two algorithms that show promise from section above: Logistic model and SVM."
   ]
  },
  {
   "cell_type": "markdown",
   "id": "entitled-passing",
   "metadata": {},
   "source": [
    "## Tuning the scaled models."
   ]
  },
  {
   "cell_type": "code",
   "execution_count": 119,
   "id": "distant-cholesterol",
   "metadata": {},
   "outputs": [
    {
     "name": "stdout",
     "output_type": "stream",
     "text": [
      "Best: 0.775120 using {'C': 100, 'penalty': 'l2', 'solver': 'lbfgs'}\n",
      "0.772534 (0.042527) with: {'C': 100, 'penalty': 'l2', 'solver': 'newton-cg'}\n",
      "0.775120 (0.041961) with: {'C': 100, 'penalty': 'l2', 'solver': 'lbfgs'}\n",
      "0.772534 (0.042790) with: {'C': 100, 'penalty': 'l2', 'solver': 'liblinear'}\n",
      "0.772534 (0.042527) with: {'C': 10, 'penalty': 'l2', 'solver': 'newton-cg'}\n",
      "0.773827 (0.041817) with: {'C': 10, 'penalty': 'l2', 'solver': 'lbfgs'}\n",
      "0.774265 (0.042894) with: {'C': 10, 'penalty': 'l2', 'solver': 'liblinear'}\n",
      "0.772967 (0.042526) with: {'C': 1.0, 'penalty': 'l2', 'solver': 'newton-cg'}\n",
      "0.772528 (0.041197) with: {'C': 1.0, 'penalty': 'l2', 'solver': 'lbfgs'}\n",
      "0.768210 (0.039862) with: {'C': 1.0, 'penalty': 'l2', 'solver': 'liblinear'}\n",
      "0.769925 (0.044069) with: {'C': 0.1, 'penalty': 'l2', 'solver': 'newton-cg'}\n",
      "0.769948 (0.041871) with: {'C': 0.1, 'penalty': 'l2', 'solver': 'lbfgs'}\n",
      "0.729978 (0.040441) with: {'C': 0.1, 'penalty': 'l2', 'solver': 'liblinear'}\n",
      "0.766889 (0.043692) with: {'C': 0.01, 'penalty': 'l2', 'solver': 'newton-cg'}\n",
      "0.760384 (0.048225) with: {'C': 0.01, 'penalty': 'l2', 'solver': 'lbfgs'}\n",
      "0.691370 (0.035587) with: {'C': 0.01, 'penalty': 'l2', 'solver': 'liblinear'}\n"
     ]
    }
   ],
   "source": [
    "# Tuning scaled Logistic regression to improve accuracy.\n",
    "# define models and parameters\n",
    "model1 = LogisticRegression()\n",
    "solvers = ['newton-cg', 'lbfgs', 'liblinear']\n",
    "penalty = ['l2']\n",
    "c_values = [100, 10, 1.0, 0.1, 0.01]\n",
    "# define grid search\n",
    "grid = dict(solver=solvers,penalty=penalty,C=c_values)\n",
    "cv = RepeatedStratifiedKFold(n_splits=10, n_repeats=3, random_state=1)\n",
    "grid_search = GridSearchCV(estimator=model1, param_grid=grid, n_jobs=-1, cv=cv, scoring='accuracy',error_score=0)\n",
    "grid_result = grid_search.fit(X, y)\n",
    "# summarize results\n",
    "print(\"Best: %f using %s\" % (grid_result.best_score_, grid_result.best_params_))\n",
    "means = grid_result.cv_results_['mean_test_score']\n",
    "stds = grid_result.cv_results_['std_test_score']\n",
    "params = grid_result.cv_results_['params']\n",
    "for mean, stdev, param in zip(means, stds, params):\n",
    "    print(\"%f (%f) with: %r\" % (mean, stdev, param))"
   ]
  },
  {
   "cell_type": "code",
   "execution_count": 120,
   "id": "sharp-portuguese",
   "metadata": {},
   "outputs": [
    {
     "name": "stdout",
     "output_type": "stream",
     "text": [
      "Best: 0.780090 using {'C': 0.1, 'kernel': 'linear'}\n",
      "0.780090 (0.055426) with: {'C': 0.1, 'kernel': 'linear'}\n",
      "0.711608 (0.066320) with: {'C': 0.1, 'kernel': 'poly'}\n",
      "0.711713 (0.047940) with: {'C': 0.1, 'kernel': 'rbf'}\n",
      "0.765362 (0.059384) with: {'C': 0.1, 'kernel': 'sigmoid'}\n",
      "0.780063 (0.060190) with: {'C': 0.3, 'kernel': 'linear'}\n",
      "0.731280 (0.054733) with: {'C': 0.3, 'kernel': 'poly'}\n",
      "0.754045 (0.067017) with: {'C': 0.3, 'kernel': 'rbf'}\n",
      "0.750714 (0.060719) with: {'C': 0.3, 'kernel': 'sigmoid'}\n",
      "0.778451 (0.061394) with: {'C': 0.5, 'kernel': 'linear'}\n",
      "0.736118 (0.072612) with: {'C': 0.5, 'kernel': 'poly'}\n",
      "0.754098 (0.069671) with: {'C': 0.5, 'kernel': 'rbf'}\n",
      "0.762110 (0.042649) with: {'C': 0.5, 'kernel': 'sigmoid'}\n",
      "0.778451 (0.061394) with: {'C': 0.7, 'kernel': 'linear'}\n",
      "0.739397 (0.063104) with: {'C': 0.7, 'kernel': 'poly'}\n",
      "0.745955 (0.060212) with: {'C': 0.7, 'kernel': 'rbf'}\n",
      "0.747462 (0.050255) with: {'C': 0.7, 'kernel': 'sigmoid'}\n",
      "0.778451 (0.061394) with: {'C': 0.9, 'kernel': 'linear'}\n",
      "0.737811 (0.060544) with: {'C': 0.9, 'kernel': 'poly'}\n",
      "0.749260 (0.064707) with: {'C': 0.9, 'kernel': 'rbf'}\n",
      "0.722951 (0.055590) with: {'C': 0.9, 'kernel': 'sigmoid'}\n",
      "0.778451 (0.061394) with: {'C': 1.0, 'kernel': 'linear'}\n",
      "0.739476 (0.058420) with: {'C': 1.0, 'kernel': 'poly'}\n",
      "0.747673 (0.061555) with: {'C': 1.0, 'kernel': 'rbf'}\n",
      "0.718139 (0.047951) with: {'C': 1.0, 'kernel': 'sigmoid'}\n",
      "0.778451 (0.061394) with: {'C': 1.3, 'kernel': 'linear'}\n",
      "0.742729 (0.058843) with: {'C': 1.3, 'kernel': 'poly'}\n",
      "0.742755 (0.058317) with: {'C': 1.3, 'kernel': 'rbf'}\n",
      "0.716446 (0.044934) with: {'C': 1.3, 'kernel': 'sigmoid'}\n",
      "0.778451 (0.061394) with: {'C': 1.5, 'kernel': 'linear'}\n",
      "0.744342 (0.058636) with: {'C': 1.5, 'kernel': 'poly'}\n",
      "0.742702 (0.059437) with: {'C': 1.5, 'kernel': 'rbf'}\n",
      "0.690375 (0.052174) with: {'C': 1.5, 'kernel': 'sigmoid'}\n",
      "0.778451 (0.061394) with: {'C': 1.7, 'kernel': 'linear'}\n",
      "0.747594 (0.062618) with: {'C': 1.7, 'kernel': 'poly'}\n",
      "0.736145 (0.059626) with: {'C': 1.7, 'kernel': 'rbf'}\n",
      "0.706716 (0.052832) with: {'C': 1.7, 'kernel': 'sigmoid'}\n",
      "0.776811 (0.060926) with: {'C': 2.0, 'kernel': 'linear'}\n",
      "0.749180 (0.065297) with: {'C': 2.0, 'kernel': 'poly'}\n",
      "0.736118 (0.061380) with: {'C': 2.0, 'kernel': 'rbf'}\n",
      "0.693654 (0.062248) with: {'C': 2.0, 'kernel': 'sigmoid'}\n"
     ]
    }
   ],
   "source": [
    "# Tune scaled SVM\n",
    "scaler = StandardScaler().fit(X_train)\n",
    "rescaledX = scaler.transform(X_train)\n",
    "c_values = [0.1, 0.3, 0.5, 0.7, 0.9, 1.0, 1.3, 1.5, 1.7, 2.0]\n",
    "kernel_values = [ 'linear' , 'poly' , 'rbf' , 'sigmoid' ]\n",
    "param_grid = dict(C=c_values, kernel=kernel_values)\n",
    "model2 = SVC()\n",
    "kfold = KFold(n_splits=10, random_state=None)\n",
    "grid = GridSearchCV(estimator=model2, param_grid=param_grid, scoring='accuracy', cv=kfold)\n",
    "grid_result = grid.fit(rescaledX, y_train)\n",
    "print(\"Best: %f using %s\" % (grid_result.best_score_, grid_result.best_params_))\n",
    "means = grid_result.cv_results_[ 'mean_test_score' ]\n",
    "stds = grid_result.cv_results_[ 'std_test_score' ]\n",
    "params = grid_result.cv_results_[ 'params' ]\n",
    "for mean, stdev, param in zip(means, stds, params):\n",
    "    print(\"%f (%f) with: %r\" % (mean, stdev, param))"
   ]
  },
  {
   "cell_type": "markdown",
   "id": "typical-fighter",
   "metadata": {},
   "source": [
    "## Using Ensemble methods."
   ]
  },
  {
   "cell_type": "code",
   "execution_count": 122,
   "id": "stunning-increase",
   "metadata": {},
   "outputs": [
    {
     "name": "stdout",
     "output_type": "stream",
     "text": [
      " AB : 0.724775 (0.063334)\n",
      " GBM : 0.745796 (0.082900)\n",
      " RF : 0.745796 (0.071577)\n",
      " ET : 0.734611 (0.058966)\n",
      "[15:46:45] WARNING: /tmp/build/80754af9/xgboost-split_1619724447847/work/src/learner.cc:1061: Starting in XGBoost 1.3.0, the default evaluation metric used with the objective 'binary:logistic' was changed from 'error' to 'logloss'. Explicitly set eval_metric if you'd like to restore the old behavior.\n",
      "[15:46:46] WARNING: /tmp/build/80754af9/xgboost-split_1619724447847/work/src/learner.cc:1061: Starting in XGBoost 1.3.0, the default evaluation metric used with the objective 'binary:logistic' was changed from 'error' to 'logloss'. Explicitly set eval_metric if you'd like to restore the old behavior.\n",
      "[15:46:46] WARNING: /tmp/build/80754af9/xgboost-split_1619724447847/work/src/learner.cc:1061: Starting in XGBoost 1.3.0, the default evaluation metric used with the objective 'binary:logistic' was changed from 'error' to 'logloss'. Explicitly set eval_metric if you'd like to restore the old behavior.\n",
      "[15:46:47] WARNING: /tmp/build/80754af9/xgboost-split_1619724447847/work/src/learner.cc:1061: Starting in XGBoost 1.3.0, the default evaluation metric used with the objective 'binary:logistic' was changed from 'error' to 'logloss'. Explicitly set eval_metric if you'd like to restore the old behavior.\n",
      "[15:46:47] WARNING: /tmp/build/80754af9/xgboost-split_1619724447847/work/src/learner.cc:1061: Starting in XGBoost 1.3.0, the default evaluation metric used with the objective 'binary:logistic' was changed from 'error' to 'logloss'. Explicitly set eval_metric if you'd like to restore the old behavior.\n",
      "[15:46:48] WARNING: /tmp/build/80754af9/xgboost-split_1619724447847/work/src/learner.cc:1061: Starting in XGBoost 1.3.0, the default evaluation metric used with the objective 'binary:logistic' was changed from 'error' to 'logloss'. Explicitly set eval_metric if you'd like to restore the old behavior.\n",
      "[15:46:48] WARNING: /tmp/build/80754af9/xgboost-split_1619724447847/work/src/learner.cc:1061: Starting in XGBoost 1.3.0, the default evaluation metric used with the objective 'binary:logistic' was changed from 'error' to 'logloss'. Explicitly set eval_metric if you'd like to restore the old behavior.\n",
      "[15:46:49] WARNING: /tmp/build/80754af9/xgboost-split_1619724447847/work/src/learner.cc:1061: Starting in XGBoost 1.3.0, the default evaluation metric used with the objective 'binary:logistic' was changed from 'error' to 'logloss'. Explicitly set eval_metric if you'd like to restore the old behavior.\n",
      "[15:46:49] WARNING: /tmp/build/80754af9/xgboost-split_1619724447847/work/src/learner.cc:1061: Starting in XGBoost 1.3.0, the default evaluation metric used with the objective 'binary:logistic' was changed from 'error' to 'logloss'. Explicitly set eval_metric if you'd like to restore the old behavior.\n",
      "[15:46:50] WARNING: /tmp/build/80754af9/xgboost-split_1619724447847/work/src/learner.cc:1061: Starting in XGBoost 1.3.0, the default evaluation metric used with the objective 'binary:logistic' was changed from 'error' to 'logloss'. Explicitly set eval_metric if you'd like to restore the old behavior.\n",
      " XGB : 0.728001 (0.073176)\n"
     ]
    }
   ],
   "source": [
    "# Ensemble methods to improve on the accuracy.\n",
    "ensembles = []\n",
    "ensembles.append(( ' AB ' , AdaBoostClassifier()))\n",
    "ensembles.append(( ' GBM ' , GradientBoostingClassifier()))\n",
    "ensembles.append(( ' RF ' , RandomForestClassifier()))\n",
    "ensembles.append(( ' ET ' , ExtraTreesClassifier()))\n",
    "ensembles.append(( ' XGB ' , XGBClassifier()))\n",
    "results = []\n",
    "names = []\n",
    "for name, model in ensembles:\n",
    "    kfold = KFold(n_splits=10, random_state=None)\n",
    "    cv_results = cross_val_score(model, X_train, y_train, cv=kfold, scoring='accuracy')\n",
    "    results.append(cv_results)\n",
    "    names.append(name)\n",
    "    msg = \"%s: %f (%f)\" % (name, cv_results.mean(), cv_results.std())\n",
    "    print(msg)"
   ]
  },
  {
   "cell_type": "code",
   "execution_count": 123,
   "id": "boxed-campbell",
   "metadata": {},
   "outputs": [
    {
     "data": {
      "image/png": "[encoded data removed]",
      "text/plain": [
       "<Figure size 432x288 with 1 Axes>"
      ]
     },
     "metadata": {
      "needs_background": "light"
     },
     "output_type": "display_data"
    }
   ],
   "source": [
    "# Comparing Algorithms\n",
    "fig = plt.figure()\n",
    "fig.suptitle( ' Ensemble Algorithm Comparison ' )\n",
    "ax = fig.add_subplot(111)\n",
    "plt.boxplot(results)\n",
    "ax.set_xticklabels(names)\n",
    "plt.show()"
   ]
  },
  {
   "cell_type": "code",
   "execution_count": null,
   "id": "stopped-reputation",
   "metadata": {},
   "outputs": [],
   "source": [
    "# The results above suggest Gradient Boosting method (GBM) may be worthy of further study, with a strong mean and a spread that skews up towards high 85s (%) in accuracy."
   ]
  },
  {
   "cell_type": "markdown",
   "id": "designed-carter",
   "metadata": {},
   "source": [
    "## Selection of the best model among the 3 models ie SVM, Logistic regression and GBM."
   ]
  },
  {
   "cell_type": "code",
   "execution_count": 125,
   "id": "moderate-gateway",
   "metadata": {},
   "outputs": [
    {
     "name": "stdout",
     "output_type": "stream",
     "text": [
      "0.7922077922077922\n",
      "[[91  6]\n",
      " [26 31]]\n",
      "              precision    recall  f1-score   support\n",
      "\n",
      "           0       0.78      0.94      0.85        97\n",
      "           1       0.84      0.54      0.66        57\n",
      "\n",
      "    accuracy                           0.79       154\n",
      "   macro avg       0.81      0.74      0.76       154\n",
      "weighted avg       0.80      0.79      0.78       154\n",
      "\n"
     ]
    }
   ],
   "source": [
    "# finalising the model though choosing SVM as the best model.\n",
    "# prepare the model\n",
    "# prepare the model\n",
    "scaler = StandardScaler().fit(X_train)\n",
    "rescaledX = scaler.transform(X_train)\n",
    "model_SVM = SVC(C=0.1, kernel='linear')\n",
    "model_SVM.fit(rescaledX, y_train)\n",
    "# estimate accuracy on validation dataset\n",
    "rescaledValidationX = scaler.transform(X_test)\n",
    "predictions = model_SVM.predict(rescaledValidationX)\n",
    "print(accuracy_score(y_test, predictions))\n",
    "print(confusion_matrix(y_test, predictions))\n",
    "print(classification_report(y_test, predictions))"
   ]
  },
  {
   "cell_type": "code",
   "execution_count": 126,
   "id": "horizontal-mystery",
   "metadata": {},
   "outputs": [],
   "source": [
    "# saving the model.\n",
    "import pickle\n",
    "file = open('SVM_model.pkl', 'wb')\n",
    "pickle.dump(model_SVM, file)\n",
    "file.close()"
   ]
  },
  {
   "cell_type": "code",
   "execution_count": null,
   "id": "raising-count",
   "metadata": {},
   "outputs": [],
   "source": []
  }
 ],
 "metadata": {
  "kernelspec": {
   "display_name": "Python 3",
   "language": "python",
   "name": "python3"
  },
  "language_info": {
   "codemirror_mode": {
    "name": "ipython",
    "version": 3
   },
   "file_extension": ".py",
   "mimetype": "text/x-python",
   "name": "python",
   "nbconvert_exporter": "python",
   "pygments_lexer": "ipython3",
   "version": "3.8.8"
  }
 },
 "nbformat": 4,
 "nbformat_minor": 5
}
